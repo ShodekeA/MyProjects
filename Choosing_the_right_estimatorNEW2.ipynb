{
  "cells": [
    {
      "cell_type": "markdown",
      "metadata": {
        "id": "view-in-github",
        "colab_type": "text"
      },
      "source": [
        "<a href=\"https://colab.research.google.com/github/ShodekeA/MyProjects/blob/main/Choosing_the_right_estimatorNEW2.ipynb\" target=\"_parent\"><img src=\"https://colab.research.google.com/assets/colab-badge.svg\" alt=\"Open In Colab\"/></a>"
      ]
    },
    {
      "cell_type": "code",
      "source": [
        ""
      ],
      "metadata": {
        "id": "hw7o2Pj7u_sV"
      },
      "execution_count": null,
      "outputs": []
    },
    {
      "cell_type": "markdown",
      "metadata": {
        "id": "uiAWFoy9-nSy"
      },
      "source": [
        "# Practical Machine Learning \n",
        "### Project: Model Selection"
      ]
    },
    {
      "cell_type": "markdown",
      "metadata": {
        "id": "KMA7uznx-nS3"
      },
      "source": [
        "# Abstract"
      ]
    },
    {
      "cell_type": "markdown",
      "metadata": {
        "id": "uaimpZ6y-nS4"
      },
      "source": [
        "# Part 1: Business and Data Understanding"
      ]
    },
    {
      "cell_type": "markdown",
      "metadata": {
        "id": "_9CzvvOU-nS4"
      },
      "source": [
        "### Q. Define the problem domain"
      ]
    },
    {
      "cell_type": "code",
      "execution_count": 21,
      "metadata": {
        "id": "PAS11xn0-nS5"
      },
      "outputs": [],
      "source": [
        "import pandas as pd\n",
        "import numpy as np\n",
        "\n",
        "#data = pd.read_csv('Agora.csv')\n",
        "data = pd.read_csv('city-of-london-stop-and-search.csv')"
      ]
    },
    {
      "cell_type": "code",
      "source": [
        "#Get more information about the data\n",
        "data.info()\n"
      ],
      "metadata": {
        "id": "im44u9NgJXkE"
      },
      "execution_count": null,
      "outputs": []
    },
    {
      "cell_type": "code",
      "source": [
        "#which columns can I delete?\n",
        "data.describe()\n"
      ],
      "metadata": {
        "id": "SJwQDdfBLYnx"
      },
      "execution_count": null,
      "outputs": []
    },
    {
      "cell_type": "code",
      "source": [
        "chosen_columns = data\n",
        "chosen_columns.head()"
      ],
      "metadata": {
        "id": "WUH_mWlYaRop"
      },
      "execution_count": null,
      "outputs": []
    },
    {
      "cell_type": "code",
      "source": [
        "#remove columns 3, 4, 5, 6 because they have lots of null values\n",
        "\n",
        "chosen_columns = chosen_columns.drop(labels = [\"Part of a policing operation\", \"Latitude\", \"Longitude\", \"Policing operation\"], axis=1)\n"
      ],
      "metadata": {
        "id": "7wGn7vonLtlg"
      },
      "execution_count": 25,
      "outputs": []
    },
    {
      "cell_type": "code",
      "source": [
        "chosen_columns.tail()"
      ],
      "metadata": {
        "id": "jrkQUUcjEnUC"
      },
      "execution_count": null,
      "outputs": []
    },
    {
      "cell_type": "code",
      "source": [
        "for name in chosen_columns.columns:\n",
        "  print(name , end=\"  \")\n",
        "  print(data[name].value_counts())"
      ],
      "metadata": {
        "id": "pqrqWOPIJS6B"
      },
      "execution_count": null,
      "outputs": []
    },
    {
      "cell_type": "code",
      "source": [
        "chosen_columns.info()"
      ],
      "metadata": {
        "id": "kLdjLllpnZhl"
      },
      "execution_count": null,
      "outputs": []
    },
    {
      "cell_type": "code",
      "source": [
        "arrested = lambda d : 1 if d=='Arrest' else 0\n",
        "outcome_linked = lambda d : 1 if d=='True' else 0"
      ],
      "metadata": {
        "id": "miiY9G1LaphM"
      },
      "execution_count": 29,
      "outputs": []
    },
    {
      "cell_type": "code",
      "source": [
        "#Set 'Outcome' to True or False\n",
        "chosen_columns['Outcome']  = chosen_columns['Outcome'].map(arrested)"
      ],
      "metadata": {
        "id": "Xl9s5MHyLWEW"
      },
      "execution_count": 30,
      "outputs": []
    },
    {
      "cell_type": "code",
      "source": [
        "#Check that 'Outcome' is set to True or False\n",
        "chosen_columns['Outcome'].value_counts()"
      ],
      "metadata": {
        "id": "Vc5h6GwKjQSh"
      },
      "execution_count": null,
      "outputs": []
    },
    {
      "cell_type": "code",
      "source": [
        "#set 'Outcome linked to object of search'  True or False\n",
        "chosen_columns['Outcome linked to object of search']  = chosen_columns['Outcome linked to object of search'].map(outcome_linked)"
      ],
      "metadata": {
        "id": "iXDUgnJgJly7"
      },
      "execution_count": 32,
      "outputs": []
    },
    {
      "cell_type": "code",
      "source": [
        "#Check 'Outcome linked to object of search' is set to True or False\n",
        "chosen_columns['Outcome linked to object of search'].value_counts()"
      ],
      "metadata": {
        "id": "CgOk0tf4LpKS"
      },
      "execution_count": null,
      "outputs": []
    },
    {
      "cell_type": "code",
      "source": [
        "#set 'Removal of more than just outer clothing'  True or False\n",
        "chosen_columns['Removal of more than just outer clothing']  = chosen_columns['Removal of more than just outer clothing'].map(outcome_linked)"
      ],
      "metadata": {
        "id": "Gee2DN_XL-pK"
      },
      "execution_count": 34,
      "outputs": []
    },
    {
      "cell_type": "code",
      "source": [
        "#Check that 'Removal of more than just outer clothing' is set to True or False\n",
        "chosen_columns['Removal of more than just outer clothing'].value_counts()"
      ],
      "metadata": {
        "id": "-WE-zCCfI2Op"
      },
      "execution_count": null,
      "outputs": []
    },
    {
      "cell_type": "markdown",
      "source": [
        ""
      ],
      "metadata": {
        "id": "OVhb0nlI1Qg3"
      }
    },
    {
      "cell_type": "code",
      "source": [
        "#Date is not required so i'll remove it\n",
        "chosen_columns = chosen_columns.drop('Date', axis='columns')"
      ],
      "metadata": {
        "id": "wjYB-t-52wvt"
      },
      "execution_count": null,
      "outputs": []
    },
    {
      "cell_type": "code",
      "source": [
        "chosen_columns.info()"
      ],
      "metadata": {
        "id": "Ju8_xW8ZUP_1",
        "outputId": "2eafbeff-c3f8-456d-e871-e661bf88746f",
        "colab": {
          "base_uri": "https://localhost:8080/"
        }
      },
      "execution_count": 67,
      "outputs": [
        {
          "output_type": "stream",
          "name": "stdout",
          "text": [
            "<class 'pandas.core.frame.DataFrame'>\n",
            "RangeIndex: 4679 entries, 0 to 4678\n",
            "Data columns (total 11 columns):\n",
            " #   Column                                    Non-Null Count  Dtype \n",
            "---  ------                                    --------------  ----- \n",
            " 0   Type                                      4679 non-null   object\n",
            " 1   Gender                                    4679 non-null   object\n",
            " 2   Age range                                 4679 non-null   object\n",
            " 3   Self-defined ethnicity                    4679 non-null   object\n",
            " 4   Officer-defined ethnicity                 4679 non-null   object\n",
            " 5   Legislation                               4679 non-null   object\n",
            " 6   Object of search                          4679 non-null   object\n",
            " 7   Outcome                                   4679 non-null   int64 \n",
            " 8   Outcome linked to object of search        4679 non-null   int64 \n",
            " 9   Removal of more than just outer clothing  4679 non-null   int64 \n",
            " 10  Average age                               4679 non-null   object\n",
            "dtypes: int64(3), object(8)\n",
            "memory usage: 402.2+ KB\n"
          ]
        }
      ]
    },
    {
      "cell_type": "code",
      "source": [
        "#pad null values\n",
        "chosen_columns['Age range'] = chosen_columns['Age range'].fillna(False)\n",
        "chosen_columns['Gender'] = chosen_columns['Gender'].fillna(False)\n",
        "chosen_columns['Self-defined ethnicity'] = chosen_columns['Self-defined ethnicity'].fillna(False)\n",
        "chosen_columns['Officer-defined ethnicity'] = chosen_columns['Officer-defined ethnicity'].fillna(False)\n",
        "chosen_columns['Legislation'] = chosen_columns['Legislation'].fillna(False)\n",
        "chosen_columns['Object of search'] = chosen_columns['Object of search'].fillna(False)"
      ],
      "metadata": {
        "id": "pPnKLpoLZhfv"
      },
      "execution_count": 57,
      "outputs": []
    },
    {
      "cell_type": "code",
      "source": [
        "chosen_columns['Age range'].value_counts()"
      ],
      "metadata": {
        "id": "rvDW6CSz3exI",
        "outputId": "97673cff-9439-4bee-b3b3-091465734d39",
        "colab": {
          "base_uri": "https://localhost:8080/"
        }
      },
      "execution_count": 68,
      "outputs": [
        {
          "output_type": "execute_result",
          "data": {
            "text/plain": [
              "18-24        1642\n",
              "25-34        1478\n",
              "over 34       918\n",
              "10-17         321\n",
              "False         285\n",
              "Age range      35\n",
              "Name: Age range, dtype: int64"
            ]
          },
          "metadata": {},
          "execution_count": 68
        }
      ]
    },
    {
      "cell_type": "code",
      "source": [
        "chosen_columns.head(1000)"
      ],
      "metadata": {
        "id": "mCClFj4qgPjR"
      },
      "execution_count": null,
      "outputs": []
    },
    {
      "cell_type": "code",
      "source": [
        "#Add a new column 'Average age'\n",
        "chosen_columns[\"Average age\"] = chosen_columns[\"Age range\"]"
      ],
      "metadata": {
        "id": "BdIxkAsc6ssC"
      },
      "execution_count": 66,
      "outputs": []
    },
    {
      "cell_type": "code",
      "source": [
        "#remove numm values from aversge column and outcome####"
      ],
      "metadata": {
        "id": "Mo7YLzynSbQZ"
      },
      "execution_count": null,
      "outputs": []
    },
    {
      "cell_type": "code",
      "source": [
        "#Calculate average age\n",
        "def cal_avg_age(age_range):\n",
        "  avg_age = 0\n",
        "  if age_range == \"10-17\":\n",
        "    avg_age = (10 + 17)/2\n",
        "  elif age_range == \"18-24\":\n",
        "      avg_age = (18 + 24)/2\n",
        "  elif age_range == \"25-34\":\n",
        "     avg_age = (25 + 34)/2\n",
        "  elif age_range == \"over 34\":\n",
        "    avg_Age = 50\n",
        "  else:\n",
        "    avg_age = 0\n",
        "  return avg_age"
      ],
      "metadata": {
        "id": "KKYjrx327ShN"
      },
      "execution_count": 111,
      "outputs": []
    },
    {
      "cell_type": "code",
      "source": [
        "#Update thr average age\n",
        "j = chosen_columns['Age range'].count()\n",
        "temp2 = 0\n",
        "for i in range(j):\n",
        "  temp = chosen_columns['Age range'].values[i]\n",
        "  temp2 = cal_avg_age(temp)\n",
        "  chosen_columns['Average age'].values[i] = temp2\n",
        "  \n"
      ],
      "metadata": {
        "id": "9l2ye7C2APv5"
      },
      "execution_count": null,
      "outputs": []
    },
    {
      "cell_type": "markdown",
      "metadata": {
        "id": "HEMTIEtJ-nS6"
      },
      "source": [
        "### Q. Identify candidate questions for your machine learning project"
      ]
    },
    {
      "cell_type": "code",
      "source": [
        "#Check relationship between average and Outcome of search\n",
        "data_for_ml = chosen_columns.loc[:, ['Average age','Outcome']]\n",
        "#df = data_for_ml.groupby('Outcome')\n",
        "#df.head()"
      ],
      "metadata": {
        "id": "XDE27RX32Vj2"
      },
      "execution_count": 123,
      "outputs": []
    },
    {
      "cell_type": "code",
      "source": [
        "import matplotlib.pyplot as plt\n",
        "\n",
        "chosen_columns['Average age'].plot(kind = 'hist')\n",
        "\n",
        "plt.show()"
      ],
      "metadata": {
        "id": "CS8DmEr8CLiE",
        "outputId": "190fb6b0-9114-4db9-8461-1aa25fa04074",
        "colab": {
          "base_uri": "https://localhost:8080/",
          "height": 265
        }
      },
      "execution_count": 124,
      "outputs": [
        {
          "output_type": "display_data",
          "data": {
            "text/plain": [
              "<Figure size 432x288 with 1 Axes>"
            ],
            "image/png": "[encoded data removed]"
          },
          "metadata": {
            "needs_background": "light"
          }
        }
      ]
    },
    {
      "cell_type": "code",
      "source": [
        "import pandas as pd\n",
        "import matplotlib.pyplot as plt\n",
        "df = chosen_columns\n",
        "df.plot(kind = 'scatter', x = chosen_columns['Average age'], y = chosen_columns['Outcome'])\n",
        "\n",
        "plt.show()\n"
      ],
      "metadata": {
        "id": "KcMt9HN3BzXq"
      },
      "execution_count": null,
      "outputs": []
    },
    {
      "cell_type": "code",
      "source": [
        "import itertools\n",
        "p = d = q = range(0,2) # VALUE generators between [0,1] \n",
        "pdq = list(itertools.product(p,d,q)) # ALL possible combinations\n",
        "print(pdq)\n",
        "# below is the TRUTH table"
      ],
      "metadata": {
        "colab": {
          "base_uri": "https://localhost:8080/"
        },
        "id": "75kmdx4_6ce6",
        "outputId": "c980c79f-4610-4d26-e28d-f1632ce818db"
      },
      "execution_count": null,
      "outputs": [
        {
          "output_type": "stream",
          "name": "stdout",
          "text": [
            "[(0, 0, 0), (0, 0, 1), (0, 1, 0), (0, 1, 1), (1, 0, 0), (1, 0, 1), (1, 1, 0), (1, 1, 1)]\n"
          ]
        }
      ]
    },
    {
      "cell_type": "code",
      "source": [
        "seasons = 2\n",
        "seasonal_pdq = [  (x[0],x[1],x[2], seasons)   for x in pdq] \n",
        "seasonal_pdq"
      ],
      "metadata": {
        "colab": {
          "base_uri": "https://localhost:8080/"
        },
        "id": "UyIjkinK8X-j",
        "outputId": "8108f902-1f48-4cee-bd8c-4430a25a8f83"
      },
      "execution_count": null,
      "outputs": [
        {
          "output_type": "execute_result",
          "data": {
            "text/plain": [
              "[(0, 0, 0, 2),\n",
              " (0, 0, 1, 2),\n",
              " (0, 1, 0, 2),\n",
              " (0, 1, 1, 2),\n",
              " (1, 0, 0, 2),\n",
              " (1, 0, 1, 2),\n",
              " (1, 1, 0, 2),\n",
              " (1, 1, 1, 2)]"
            ]
          },
          "metadata": {},
          "execution_count": 444
        }
      ]
    },
    {
      "cell_type": "code",
      "source": [
        "import statsmodels.api as sm\n",
        "decomposition = sm.tsa.seasonal_decompose(df, model='additive')\n",
        "\n",
        "# BEST possible values for P,D,Q and seasonal P,D,Q\n",
        "# for lowest possible values of AIC \n",
        "best_score = 9999\n",
        "best_pdq= (0,0,0)\n",
        "best_spdq = (0,0,0)\n",
        "for x1 in pdq:\n",
        "  for x2 in seasonal_pdq:\n",
        "    try:\n",
        "      model = sm.tsa.statespace.SARIMAX(df, \n",
        "                                        order=x1, \n",
        "                                        seasonal_order=x2, \n",
        "                                        enforce_stationarity=False)\n",
        "      # calculate the metric- AIC\n",
        "      prediction = model.fit()\n",
        "      # fitting-> training the model, scoring-> testing the model\n",
        "      # compare predictions against the known results\n",
        "      # it helps us calculate LOSS\n",
        "      print(x1, end= \" X \")\n",
        "      print(x2, end=\" = \")\n",
        "      print(prediction.aic)\n",
        "\n",
        "      if(prediction.aic < best_score):\n",
        "        best_score = prediction.aic\n",
        "        best_pdq = x1\n",
        "        best_spdq = x2\n",
        "      \n",
        "    except Exception as ex:\n",
        "      print(ex)\n",
        "      continue"
      ],
      "metadata": {
        "id": "vSESEN__8lO4"
      },
      "execution_count": null,
      "outputs": []
    },
    {
      "cell_type": "markdown",
      "metadata": {
        "id": "gnnSNzl3-nS7"
      },
      "source": [
        "### Q. Identify a suitable dataset for your canditate question(s)"
      ]
    },
    {
      "cell_type": "markdown",
      "metadata": {
        "id": "hbN9SXS3-nS8"
      },
      "source": [
        "Go have a look at any of these websites:\n",
        "\n",
        "* https://www.kaggle.com/datasets \n",
        "* https://datasetsearch.research.google.com/\n",
        "* https://data.gov.uk/\n",
        "\n",
        "Find an interesting looking data set related to your problem domain and get a copy of it\n"
      ]
    },
    {
      "cell_type": "code",
      "execution_count": null,
      "metadata": {
        "id": "B3GgISD--nS8"
      },
      "outputs": [],
      "source": [
        ""
      ]
    },
    {
      "cell_type": "markdown",
      "metadata": {
        "id": "umFoaCLJ-nS9"
      },
      "source": [
        "### Q. Generate a descriptive statistics report for the columns in your dataset"
      ]
    },
    {
      "cell_type": "code",
      "execution_count": null,
      "metadata": {
        "id": "TD_tA2mq-nS9"
      },
      "outputs": [],
      "source": [
        ""
      ]
    },
    {
      "cell_type": "markdown",
      "metadata": {
        "id": "YMUJa94Z-nS9"
      },
      "source": [
        "# Part 2: Data Preparation"
      ]
    },
    {
      "cell_type": "markdown",
      "metadata": {
        "id": "FatxhFYM-nS-"
      },
      "source": [
        "### Q. Discuss the following types of missing data and how they would be handled in reference to your dataset where applicable.\n",
        "*\tMissing completely at random (MCAR)\n",
        "*\tMissing at random (MAR)\n",
        "*\tMissing Not at Random (MNAR)"
      ]
    },
    {
      "cell_type": "code",
      "execution_count": null,
      "metadata": {
        "id": "hlZ08uYZ-nS-"
      },
      "outputs": [],
      "source": [
        ""
      ]
    },
    {
      "cell_type": "markdown",
      "metadata": {
        "id": "DDMDnZ0u-nS_"
      },
      "source": [
        "# Part 3: Model Selection"
      ]
    },
    {
      "cell_type": "markdown",
      "metadata": {
        "id": "px4vFelM-nS_"
      },
      "source": [
        "### Q. Use the cheat sheet below to choose the algorithm/estimator suitable for building a model to address your candidate question(s)\n",
        "\n",
        "* https://scikit-learn.org/stable/tutorial/machine_learning_map/"
      ]
    },
    {
      "cell_type": "markdown",
      "metadata": {
        "id": "bVxUj6gu-nS_"
      },
      "source": [
        ""
      ]
    },
    {
      "cell_type": "markdown",
      "metadata": {
        "id": "Ya4PVPyo-nS_"
      },
      "source": [
        "# Part 4: Model Evaluation"
      ]
    },
    {
      "cell_type": "markdown",
      "metadata": {
        "id": "BubyHGbA-nTA"
      },
      "source": [
        "### Q. Identify which of the statistical measures below are suitable for the evaluation of your model.\n",
        "\n",
        "Classification Metrics:\n",
        "* Accuracy\n",
        "* Precision\n",
        "* Recall\n",
        "* F1 Score\n",
        "\n",
        "Regression Metrics:\n",
        "    \n",
        "* Mean absolute error (MAE)\n",
        "* Root mean squared error (RMSE)\n",
        "* Relative absolute error (RAE)\n",
        "* Relative squared error (RSE)\n",
        "* Mean Zero One Error (MZOE)\n",
        "* Coefficient of determination\n",
        "\n",
        " "
      ]
    },
    {
      "cell_type": "code",
      "execution_count": null,
      "metadata": {
        "id": "AxEsTN92-nTA"
      },
      "outputs": [],
      "source": [
        ""
      ]
    },
    {
      "cell_type": "markdown",
      "metadata": {
        "id": "y3WhBP4i-nTA"
      },
      "source": [
        "# Part 5: Stretch - Model Deployment"
      ]
    },
    {
      "cell_type": "markdown",
      "metadata": {
        "id": "iWGtT0de-nTB"
      },
      "source": [
        "### Q. Evaluate the open-source app framework for Machine Learning model deployment below in your own time.\n",
        "\n",
        "* https://streamlit.io/"
      ]
    },
    {
      "cell_type": "code",
      "execution_count": null,
      "metadata": {
        "id": "OQUfHOW1-nTB"
      },
      "outputs": [],
      "source": [
        ""
      ]
    }
  ],
  "metadata": {
    "kernelspec": {
      "display_name": "Python 3",
      "language": "python",
      "name": "python3"
    },
    "language_info": {
      "codemirror_mode": {
        "name": "ipython",
        "version": 3
      },
      "file_extension": ".py",
      "mimetype": "text/x-python",
      "name": "python",
      "nbconvert_exporter": "python",
      "pygments_lexer": "ipython3",
      "version": "3.7.4"
    },
    "colab": {
      "name": "Choosing the right estimator.ipynb",
      "provenance": [],
      "include_colab_link": true
    }
  },
  "nbformat": 4,
  "nbformat_minor": 0
}