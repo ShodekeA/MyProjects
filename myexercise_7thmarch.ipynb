{
  "nbformat": 4,
  "nbformat_minor": 0,
  "metadata": {
    "colab": {
      "name": "Untitled3.ipynb",
      "provenance": [],
      "authorship_tag": "ABX9TyMvvqgOPge90XvC0tfVPWdm",
      "include_colab_link": true
    },
    "kernelspec": {
      "name": "python3",
      "display_name": "Python 3"
    },
    "language_info": {
      "name": "python"
    }
  },
  "cells": [
    {
      "cell_type": "markdown",
      "metadata": {
        "id": "view-in-github",
        "colab_type": "text"
      },
      "source": [
        "<a href=\"https://colab.research.google.com/github/ShodekeA/MyProjects/blob/main/myexercise_7thmarch.ipynb\" target=\"_parent\"><img src=\"https://colab.research.google.com/assets/colab-badge.svg\" alt=\"Open In Colab\"/></a>"
      ]
    },
    {
      "cell_type": "code",
      "execution_count": 80,
      "metadata": {
        "colab": {
          "base_uri": "https://localhost:8080/"
        },
        "id": "2m0agE8TTb2-",
        "outputId": "6f77ac31-d8f3-4b41-80c2-b87b8edbb2a3"
      },
      "outputs": [
        {
          "output_type": "stream",
          "name": "stdout",
          "text": [
            "Jack and Jill, were walking up the hill on the way to the Supermarket to get some mineral water when Jack tripped over a pothole in the road. He fell down and broke his smartphone.     \"Oh dear!\" said Jack. actually,he didn’t say \"Oh dear\",he used some words that Jill was sure his mother wouldn’t approve of and went on to make some descriptive comments on what he thought of the state of the roads leading up the hill. Jill was so shocked that she didn’t look where she was going and fell down,too, tumbling all the way down the hill.   Jack got up and went home to mend his phone. .     Jill suggested using her granny’s remedy of vinegar and brown paper to fix the phone.  Jack replied with a comment that got him grounded for a week during which time he repaired his phone with duct tape and superglue but it was never the same again . \n"
          ]
        }
      ],
      "source": [
        "# Challenge Part 1\n",
        "import string\n",
        "data = 'Jack and jill;; were walking up the hill on the way to the Supermarket to get some mineral water when Jack tripped over a pothole in the road.He fell down and broke his smartphone.    \"Oh dear!\" said jack;actually,he didn’t say \"Oh dear\",he used some words that Jill was sure his mother wouldn’t approve of and went on to make some descriptive comments on what he thought of the state of the roads leading up the hill.jill was so shocked that she didn’t look where she was going and fell down,too, tumbling all the way down the hill;  jack got up and went home to mend his phone.    jill suggested using her granny’s remedy of vinegar and brown paper to fix the phone; Jack replied with a comment that got him grounded for a week during which time he repaired his phone with duct tape and superglue but it was never the same again .'\n",
        "\n",
        "data = ('Jack and jill,, were walking up the hill on the way to the Supermarket to get some mineral water' \n",
        "+ ' when Jack tripped over a pothole in the road.He fell down and broke his smartphone.    \"Oh dear!\" said jack'\n",
        "+ ';actually,,he didn’t say \"Oh dear\",he used some words that Jill was sure his mother wouldn’t approve of and '\n",
        "+ 'went on to make some descriptive comments on what he thought of the state of the roads leading up the hill.'\n",
        "+ 'jill was so shocked that she didn’t look where she was going and fell down,too, tumbling all the way down the '\n",
        "+ 'hill;  jack got up and went home to mend his phone..    jill suggested using her granny’s remedy of vinegar and '\n",
        "+ 'brown paper to fix the phone; Jack replied with a comment that got him grounded for a week during which time he '\n",
        "+ 'repaired his phone with duct tape and superglue but it was never the same again .')\n",
        "\n",
        "## for enhancement - define list of proper names\n",
        "\n",
        "\n",
        "\n",
        "\n",
        "\n",
        "\n",
        "\n",
        "\n",
        "\n",
        "# fix proper names\n",
        "def fix_proper_names(text):\n",
        "    proper_names = {\"jill\",\"jack\"}\n",
        "    for name in proper_names:\n",
        "        text = text.replace(name, name.capitalize())\n",
        "    return text\n",
        "\n",
        "def separate_words(text):\n",
        "    return text.replace(\" \",\"  \")\n",
        "\n",
        "#replace comma and space with just comma\n",
        "def fix_commas(text):\n",
        "    text = text.replace(\", \",\",\")\n",
        "    return text.replace(\",\",\", \")\n",
        "\n",
        "#replace semicolon with full stop\n",
        "def fix_semicolons(text):\n",
        "    return text.replace(\";\",\".\")\n",
        "\n",
        "#replace full stop with new line\n",
        "def replace_stop(text):\n",
        "    return text.replace(\".\",\". \")\n",
        "\n",
        "#no duplicate punctuations\n",
        "def fix_duplicate_punctuation(text):\n",
        "    for char in string.punctuation:    \n",
        "        text = text.replace(char+char,char)\n",
        "    return text\n",
        "\n",
        "\n",
        "def fix_sentence_ending(sentence):\n",
        "    if(len(sentence.strip()) == 0):\n",
        "        return \"\";\n",
        "    else:\n",
        "        temp = sentence.strip() + \".  \"\n",
        "        ## capitalize *only* the first character\n",
        "        return temp[0].upper() + temp[1:]\n",
        "\n",
        "\n",
        "\n",
        "\n",
        "data = fix_proper_names(data)\n",
        "data = fix_semicolons(data)\n",
        "data = replace_stop(data)\n",
        "data = fix_duplicate_punctuation(data)\n",
        "\n",
        "sentences = data.split(\".\")\n",
        "for i in range(len(sentences)):\n",
        "    x = sentences[i]\n",
        "    sentences[i] = fix_sentence_ending(x)  \n",
        "##data = separate_words(data)\n",
        "\n",
        "\n",
        "\n",
        "print(data)\n",
        "  \n"
      ]
    }
  ]
}