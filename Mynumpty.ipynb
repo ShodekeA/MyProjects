{
  "nbformat": 4,
  "nbformat_minor": 0,
  "metadata": {
    "colab": {
      "name": "Untitled2.ipynb",
      "provenance": [],
      "authorship_tag": "ABX9TyNXBN0KzCLBEQNUq9nNfxFQ",
      "include_colab_link": true
    },
    "kernelspec": {
      "name": "python3",
      "display_name": "Python 3"
    },
    "language_info": {
      "name": "python"
    }
  },
  "cells": [
    {
      "cell_type": "markdown",
      "metadata": {
        "id": "view-in-github",
        "colab_type": "text"
      },
      "source": [
        "<a href=\"https://colab.research.google.com/github/ShodekeA/MyProjects/blob/main/Mynumpty.ipynb\" target=\"_parent\"><img src=\"https://colab.research.google.com/assets/colab-badge.svg\" alt=\"Open In Colab\"/></a>"
      ]
    },
    {
      "cell_type": "code",
      "execution_count": 10,
      "metadata": {
        "colab": {
          "base_uri": "https://localhost:8080/"
        },
        "id": "QxXkl9SMPFpR",
        "outputId": "e32a2ea2-bfa4-45ec-e125-0a3fd72ff491"
      },
      "outputs": [
        {
          "output_type": "stream",
          "name": "stdout",
          "text": [
            "[10, 5, 8, 32, 65, 43]\n",
            "<class 'numpy.ndarray'>\n",
            "[10  5  8 32 65 43]\n"
          ]
        }
      ],
      "source": [
        "#he first thing we want to do is import numpy.\n",
        "\n",
        "import numpy as np\n",
        "\n"
      ]
    },
    {
      "cell_type": "code",
      "source": [
        "#Let us first define a Python list containing the ages of 6 people.\n",
        "\n",
        "ages_list = [10, 5, 8, 32, 65, 43]\n",
        "print(ages_list)\n",
        "\n",
        "#There are 3 main ways to instantiate a Numpy ndarray object. One of these is to use `np.array(<collection>)`\n",
        "ages = np.array(ages_list)\n",
        "print(type(ages))\n",
        "print(ages)"
      ],
      "metadata": {
        "id": "IF-O-QdgRbC3"
      },
      "execution_count": null,
      "outputs": []
    },
    {
      "cell_type": "code",
      "source": [
        "\n",
        "print(ages)\n",
        "print(\"Size:\\t\" , ages.size)\n",
        "print(\"Shape:\\t\", ages.shape)\n",
        "\n",
        "\n",
        "\n",
        "zeroArr = np.zeros(5)\n",
        "print(zeroArr)\n",
        "\n",
        "### Multi-dim\n",
        "#Now let us define a new list containing the weights of these 6 people.\n",
        "\n",
        "weight_list = [32, 18, 26, 60, 55, 65]\n",
        "\n",
        "people = np.array([ages_list, weight_list])\n",
        "\n",
        "print(\"People:\\t\" , people)\n",
        "print(\"Size:\\t\" , people.size)\n",
        "print(\"Shape:\\t\", people.shape)\n"
      ],
      "metadata": {
        "id": "jdwoq0uoPR50"
      },
      "execution_count": null,
      "outputs": []
    },
    {
      "cell_type": "code",
      "source": [
        "people = people.reshape(12,1)\n",
        "print(\"People:\\t\" , people)\n",
        "print(\"Size:\\t\" , people.size)\n",
        "print(\"Shape:\\t\", people.shape)"
      ],
      "metadata": {
        "id": "IypEMir2SLq_"
      },
      "execution_count": null,
      "outputs": []
    },
    {
      "cell_type": "code",
      "source": [
        "#Generate a 1D numpy array with the values [7, 9, 65, 33, 85, 99]\n",
        "#Generate a matrix (2D numpy array) of the values:"
      ],
      "metadata": {
        "id": "ZD0lLdqhSItI"
      },
      "execution_count": null,
      "outputs": []
    },
    {
      "cell_type": "code",
      "source": [
        ""
      ],
      "metadata": {
        "id": "vWNa6VPlR-oZ"
      },
      "execution_count": null,
      "outputs": []
    }
  ]
}