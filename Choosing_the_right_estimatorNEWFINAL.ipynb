{
  "cells": [
    {
      "cell_type": "markdown",
      "metadata": {
        "id": "view-in-github",
        "colab_type": "text"
      },
      "source": [
        "<a href=\"https://colab.research.google.com/github/ShodekeA/MyProjects/blob/main/Choosing_the_right_estimatorNEWFINAL.ipynb\" target=\"_parent\"><img src=\"https://colab.research.google.com/assets/colab-badge.svg\" alt=\"Open In Colab\"/></a>"
      ]
    },
    {
      "cell_type": "code",
      "source": [
        ""
      ],
      "metadata": {
        "id": "hw7o2Pj7u_sV"
      },
      "execution_count": null,
      "outputs": []
    },
    {
      "cell_type": "markdown",
      "metadata": {
        "id": "uiAWFoy9-nSy"
      },
      "source": [
        "# Practical Machine Learning \n",
        "### Project: Model Selection"
      ]
    },
    {
      "cell_type": "markdown",
      "metadata": {
        "id": "KMA7uznx-nS3"
      },
      "source": [
        "# Abstract"
      ]
    },
    {
      "cell_type": "markdown",
      "metadata": {
        "id": "uaimpZ6y-nS4"
      },
      "source": [
        "# Part 1: Business and Data Understanding"
      ]
    },
    {
      "cell_type": "markdown",
      "metadata": {
        "id": "_9CzvvOU-nS4"
      },
      "source": [
        "### Q. Define the problem domain"
      ]
    },
    {
      "cell_type": "code",
      "execution_count": 19,
      "metadata": {
        "id": "PAS11xn0-nS5"
      },
      "outputs": [],
      "source": [
        "import pandas as pd\n",
        "import numpy as np\n",
        "\n",
        "#data = pd.read_csv('Agora.csv')\n",
        "data = pd.read_csv('city-of-london-stop-and-search.csv')"
      ]
    },
    {
      "cell_type": "code",
      "source": [
        "#Get more information about the data\n",
        "data.shape\n"
      ],
      "metadata": {
        "id": "im44u9NgJXkE",
        "colab": {
          "base_uri": "https://localhost:8080/"
        },
        "outputId": "23c16dd1-f99d-459b-8ef0-016aa9bc2f87"
      },
      "execution_count": 20,
      "outputs": [
        {
          "output_type": "execute_result",
          "data": {
            "text/plain": [
              "(4679, 15)"
            ]
          },
          "metadata": {},
          "execution_count": 20
        }
      ]
    },
    {
      "cell_type": "code",
      "source": [
        "#which columns can I delete?\n",
        "data.head()\n"
      ],
      "metadata": {
        "id": "SJwQDdfBLYnx"
      },
      "execution_count": null,
      "outputs": []
    },
    {
      "cell_type": "code",
      "source": [
        "df = data\n",
        "df.head()"
      ],
      "metadata": {
        "id": "WUH_mWlYaRop"
      },
      "execution_count": null,
      "outputs": []
    },
    {
      "cell_type": "code",
      "source": [
        "#remove columns 3, 4, 5, 6 because they have lots of null values\n",
        "\n",
        "df = df.drop(labels = [\"Date\", \"Part of a policing operation\", \"Latitude\", \"Longitude\", \"Policing operation\"], axis=1)\n"
      ],
      "metadata": {
        "id": "7wGn7vonLtlg"
      },
      "execution_count": 24,
      "outputs": []
    },
    {
      "cell_type": "code",
      "source": [
        "features = ['Type', 'Gender', 'Age range',\n",
        "       'Self-defined ethnicity', 'Officer-defined ethnicity', 'Legislation',\n",
        "       'Object of search', 'Outcome linked to object of search',\n",
        "       'Removal of more than just outer clothing']"
      ],
      "metadata": {
        "id": "3oEoy9O13be_"
      },
      "execution_count": 25,
      "outputs": []
    },
    {
      "cell_type": "code",
      "source": [
        "#drop null values\n",
        "x = df.loc[:, features]\n",
        "y = df.loc[:, 'Outcome']\n",
        "x.dropna(inplace=True)\n",
        "y = y.iloc[x.index]\n",
        "print(x.shape)\n",
        "print(y.shape)\n",
        "x.head()"
      ],
      "metadata": {
        "id": "pqrqWOPIJS6B"
      },
      "execution_count": null,
      "outputs": []
    },
    {
      "cell_type": "code",
      "source": [
        "y.head()"
      ],
      "metadata": {
        "id": "kFMNJLR-6EJG",
        "outputId": "2c82854a-1662-41fe-fc5f-f03eb997c810",
        "colab": {
          "base_uri": "https://localhost:8080/"
        }
      },
      "execution_count": 37,
      "outputs": [
        {
          "output_type": "execute_result",
          "data": {
            "text/plain": [
              "0    Offender given drugs possession warning\n",
              "2                 Suspect summonsed to court\n",
              "4                           Suspect arrested\n",
              "7                           Suspect arrested\n",
              "8                 Suspect summonsed to court\n",
              "Name: Outcome, dtype: object"
            ]
          },
          "metadata": {},
          "execution_count": 37
        }
      ]
    },
    {
      "cell_type": "code",
      "source": [
        "from sklearn.preprocessing import LabelEncoder \n",
        "\n",
        "for col in x.columns:\n",
        "    le = LabelEncoder()\n",
        "    x[col]= le.fit_transform(x[col])\n",
        "    \n",
        "x.head()"
      ],
      "metadata": {
        "id": "kLdjLllpnZhl"
      },
      "execution_count": null,
      "outputs": []
    },
    {
      "cell_type": "code",
      "source": [
        "# SEABORN and data.corr() to plot a heatmap\n",
        "# Github-> DFE6\n",
        "corr = x.corr()\n",
        "import matplotlib.pyplot as plt\n",
        "import seaborn as sns\n",
        "plt.figure()\n",
        "sns.heatmap(corr)\n",
        "plt.show()"
      ],
      "metadata": {
        "id": "Z-kM5kds4CLe",
        "outputId": "93da256c-15e1-4f3b-8c40-107f1011903f",
        "colab": {
          "base_uri": "https://localhost:8080/",
          "height": 464
        }
      },
      "execution_count": 28,
      "outputs": [
        {
          "output_type": "display_data",
          "data": {
            "text/plain": [
              "<Figure size 432x288 with 2 Axes>"
            ],
            "image/png": "[encoded data removed]"
          },
          "metadata": {
            "needs_background": "light"
          }
        }
      ]
    },
    {
      "cell_type": "code",
      "source": [
        "#print(dict(y.value_counts()).keys())\n",
        "print('*************')\n",
        "all_label_values = list(dict(y.value_counts()).keys())\n",
        "logic = lambda x: 0 if (x == all_label_values[0] or x== all_label_values[1]) else 1\n",
        "y2 = y.map(logic)\n",
        "y2[:10]"
      ],
      "metadata": {
        "id": "miiY9G1LaphM",
        "colab": {
          "base_uri": "https://localhost:8080/"
        },
        "outputId": "ba429038-4b1b-45a4-8939-a052c306c4cd"
      },
      "execution_count": 29,
      "outputs": [
        {
          "output_type": "stream",
          "name": "stdout",
          "text": [
            "*************\n"
          ]
        },
        {
          "output_type": "execute_result",
          "data": {
            "text/plain": [
              "0     1\n",
              "2     1\n",
              "4     1\n",
              "7     1\n",
              "8     1\n",
              "9     1\n",
              "13    1\n",
              "14    1\n",
              "17    1\n",
              "18    1\n",
              "Name: Outcome, dtype: int64"
            ]
          },
          "metadata": {},
          "execution_count": 29
        }
      ]
    },
    {
      "cell_type": "code",
      "source": [
        "#Split the data for TRAINING and SCORING (testing). OPTIONAL: Discuss what problems could happen we have poor distribution b/w training and testing?\n",
        "from sklearn.model_selection import train_test_split\n",
        "xtrain,xtest,ytrain,ytest = train_test_split(x, y2,\n",
        "                             test_size=0.2, random_state=42)"
      ],
      "metadata": {
        "id": "Xl9s5MHyLWEW"
      },
      "execution_count": 30,
      "outputs": []
    },
    {
      "cell_type": "code",
      "source": [
        "# for loop b/w all your models\n",
        "\n",
        "# xtrain,xtest, ytrain,ytest = train_test_split\n",
        "\n",
        "# model.fit-> xTRAIN , xTEST\n",
        "# predictions = model.predict(xtest)\n",
        "# accuracy_score/rmse/mae/precision for (predictions, ytest)\n",
        "\n",
        "# MAJOR-> string/ranges values-> convert into numbers\n",
        "\n",
        "from sklearn.ensemble import RandomForestClassifier\n",
        "from sklearn.naive_bayes import GaussianNB\n",
        "from sklearn.tree import DecisionTreeClassifier\n",
        "from sklearn.neighbors import KNeighborsClassifier\n",
        "from sklearn.svm import LinearSVC\n",
        "# HYPERPARAMETERS-> these are 2 diff HPs for Random Forest \n",
        "# SAME algo could also give 2 diff models!\n",
        "ntree1, ntree2 = 50,100\n",
        "from sklearn.metrics import accuracy_score\n",
        "for algo in [RandomForestClassifier(n_estimators=ntree1), RandomForestClassifier(n_estimators=ntree2), GaussianNB(), DecisionTreeClassifier(), KNeighborsClassifier(), LinearSVC()]:\n",
        "  model = algo\n",
        "  model.fit(xtrain, ytrain)\n",
        "  predictions = model.predict(xtest)\n",
        "  print(accuracy_score(predictions, ytest))"
      ],
      "metadata": {
        "id": "Vc5h6GwKjQSh",
        "colab": {
          "base_uri": "https://localhost:8080/"
        },
        "outputId": "7e58b616-6898-47d4-a118-67f0714cbd2e"
      },
      "execution_count": 31,
      "outputs": [
        {
          "output_type": "stream",
          "name": "stdout",
          "text": [
            "0.8258575197889182\n",
            "0.8271767810026385\n",
            "0.8311345646437994\n",
            "0.8245382585751979\n",
            "0.8271767810026385\n",
            "0.8179419525065963\n"
          ]
        },
        {
          "output_type": "stream",
          "name": "stderr",
          "text": [
            "/usr/local/lib/python3.7/dist-packages/sklearn/svm/_base.py:1208: ConvergenceWarning: Liblinear failed to converge, increase the number of iterations.\n",
            "  ConvergenceWarning,\n"
          ]
        }
      ]
    },
    {
      "cell_type": "code",
      "source": [
        "# Based on Accuracy, Naive Bayes is based selection\n",
        "\n",
        "from sklearn.naive_bayes import GaussianNB\n",
        "final_model = GaussianNB()\n",
        "final_model.fit(xtrain,ytrain)\n",
        "p = final_model.predict(xtest)\n",
        "print(accuracy_score(p, ytest))"
      ],
      "metadata": {
        "id": "iXDUgnJgJly7",
        "colab": {
          "base_uri": "https://localhost:8080/"
        },
        "outputId": "4870334b-d4e9-450b-c332-ff538cf896b7"
      },
      "execution_count": 32,
      "outputs": [
        {
          "output_type": "stream",
          "name": "stdout",
          "text": [
            "0.8311345646437994\n"
          ]
        }
      ]
    },
    {
      "cell_type": "code",
      "source": [
        "from joblib import dump\n",
        "dump(final_model, 'filename.joblib') "
      ],
      "metadata": {
        "id": "CgOk0tf4LpKS",
        "colab": {
          "base_uri": "https://localhost:8080/"
        },
        "outputId": "bec83f83-8763-43a9-d701-2b49d82dcba9"
      },
      "execution_count": 35,
      "outputs": [
        {
          "output_type": "execute_result",
          "data": {
            "text/plain": [
              "['filename.joblib']"
            ]
          },
          "metadata": {},
          "execution_count": 35
        }
      ]
    },
    {
      "cell_type": "code",
      "source": [
        ""
      ],
      "metadata": {
        "id": "Gee2DN_XL-pK"
      },
      "execution_count": 14,
      "outputs": []
    },
    {
      "cell_type": "code",
      "source": [
        ""
      ],
      "metadata": {
        "id": "-WE-zCCfI2Op"
      },
      "execution_count": null,
      "outputs": []
    },
    {
      "cell_type": "markdown",
      "source": [
        ""
      ],
      "metadata": {
        "id": "OVhb0nlI1Qg3"
      }
    },
    {
      "cell_type": "code",
      "source": [
        ""
      ],
      "metadata": {
        "id": "Ju8_xW8ZUP_1"
      },
      "execution_count": null,
      "outputs": []
    },
    {
      "cell_type": "code",
      "source": [
        ""
      ],
      "metadata": {
        "id": "pPnKLpoLZhfv"
      },
      "execution_count": 18,
      "outputs": []
    },
    {
      "cell_type": "markdown",
      "metadata": {
        "id": "HEMTIEtJ-nS6"
      },
      "source": [
        "### Q. Identify candidate questions for your machine learning project"
      ]
    },
    {
      "cell_type": "markdown",
      "metadata": {
        "id": "gnnSNzl3-nS7"
      },
      "source": [
        "### Q. Identify a suitable dataset for your canditate question(s)"
      ]
    },
    {
      "cell_type": "markdown",
      "metadata": {
        "id": "hbN9SXS3-nS8"
      },
      "source": [
        "Go have a look at any of these websites:\n",
        "\n",
        "* https://www.kaggle.com/datasets \n",
        "* https://datasetsearch.research.google.com/\n",
        "* https://data.gov.uk/\n",
        "\n",
        "Find an interesting looking data set related to your problem domain and get a copy of it\n"
      ]
    },
    {
      "cell_type": "code",
      "execution_count": null,
      "metadata": {
        "id": "B3GgISD--nS8"
      },
      "outputs": [],
      "source": [
        ""
      ]
    },
    {
      "cell_type": "markdown",
      "metadata": {
        "id": "umFoaCLJ-nS9"
      },
      "source": [
        "### Q. Generate a descriptive statistics report for the columns in your dataset"
      ]
    },
    {
      "cell_type": "code",
      "execution_count": null,
      "metadata": {
        "id": "TD_tA2mq-nS9"
      },
      "outputs": [],
      "source": [
        ""
      ]
    },
    {
      "cell_type": "markdown",
      "metadata": {
        "id": "YMUJa94Z-nS9"
      },
      "source": [
        "# Part 2: Data Preparation"
      ]
    },
    {
      "cell_type": "markdown",
      "metadata": {
        "id": "FatxhFYM-nS-"
      },
      "source": [
        "### Q. Discuss the following types of missing data and how they would be handled in reference to your dataset where applicable.\n",
        "*\tMissing completely at random (MCAR)\n",
        "*\tMissing at random (MAR)\n",
        "*\tMissing Not at Random (MNAR)"
      ]
    },
    {
      "cell_type": "code",
      "execution_count": null,
      "metadata": {
        "id": "hlZ08uYZ-nS-"
      },
      "outputs": [],
      "source": [
        ""
      ]
    },
    {
      "cell_type": "markdown",
      "metadata": {
        "id": "DDMDnZ0u-nS_"
      },
      "source": [
        "# Part 3: Model Selection"
      ]
    },
    {
      "cell_type": "markdown",
      "metadata": {
        "id": "px4vFelM-nS_"
      },
      "source": [
        "### Q. Use the cheat sheet below to choose the algorithm/estimator suitable for building a model to address your candidate question(s)\n",
        "\n",
        "* https://scikit-learn.org/stable/tutorial/machine_learning_map/"
      ]
    },
    {
      "cell_type": "markdown",
      "metadata": {
        "id": "bVxUj6gu-nS_"
      },
      "source": [
        ""
      ]
    },
    {
      "cell_type": "markdown",
      "metadata": {
        "id": "Ya4PVPyo-nS_"
      },
      "source": [
        "# Part 4: Model Evaluation"
      ]
    },
    {
      "cell_type": "markdown",
      "metadata": {
        "id": "BubyHGbA-nTA"
      },
      "source": [
        "### Q. Identify which of the statistical measures below are suitable for the evaluation of your model.\n",
        "\n",
        "Classification Metrics:\n",
        "* Accuracy\n",
        "* Precision\n",
        "* Recall\n",
        "* F1 Score\n",
        "\n",
        "Regression Metrics:\n",
        "    \n",
        "* Mean absolute error (MAE)\n",
        "* Root mean squared error (RMSE)\n",
        "* Relative absolute error (RAE)\n",
        "* Relative squared error (RSE)\n",
        "* Mean Zero One Error (MZOE)\n",
        "* Coefficient of determination\n",
        "\n",
        " "
      ]
    },
    {
      "cell_type": "code",
      "execution_count": null,
      "metadata": {
        "id": "AxEsTN92-nTA"
      },
      "outputs": [],
      "source": [
        ""
      ]
    },
    {
      "cell_type": "markdown",
      "metadata": {
        "id": "y3WhBP4i-nTA"
      },
      "source": [
        "# Part 5: Stretch - Model Deployment"
      ]
    },
    {
      "cell_type": "markdown",
      "metadata": {
        "id": "iWGtT0de-nTB"
      },
      "source": [
        "### Q. Evaluate the open-source app framework for Machine Learning model deployment below in your own time.\n",
        "\n",
        "* https://streamlit.io/"
      ]
    },
    {
      "cell_type": "code",
      "execution_count": null,
      "metadata": {
        "id": "OQUfHOW1-nTB"
      },
      "outputs": [],
      "source": [
        ""
      ]
    }
  ],
  "metadata": {
    "kernelspec": {
      "display_name": "Python 3",
      "language": "python",
      "name": "python3"
    },
    "language_info": {
      "codemirror_mode": {
        "name": "ipython",
        "version": 3
      },
      "file_extension": ".py",
      "mimetype": "text/x-python",
      "name": "python",
      "nbconvert_exporter": "python",
      "pygments_lexer": "ipython3",
      "version": "3.7.4"
    },
    "colab": {
      "name": "Choosing the right estimator.ipynb",
      "provenance": [],
      "include_colab_link": true
    }
  },
  "nbformat": 4,
  "nbformat_minor": 0
}