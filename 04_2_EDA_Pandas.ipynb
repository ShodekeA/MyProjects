{
  "cells": [
    {
      "cell_type": "markdown",
      "metadata": {
        "id": "view-in-github",
        "colab_type": "text"
      },
      "source": [
        "<a href=\"https://colab.research.google.com/github/ShodekeA/MyProjects/blob/main/04_2_EDA_Pandas.ipynb\" target=\"_parent\"><img src=\"https://colab.research.google.com/assets/colab-badge.svg\" alt=\"Open In Colab\"/></a>"
      ]
    },
    {
      "cell_type": "markdown",
      "metadata": {
        "id": "DxPfOE2rt5SD"
      },
      "source": [
        "# Python for Data Science & Analysis \n",
        "## Notes 3.1, Exploratory Data Analysis & Visualization"
      ]
    },
    {
      "cell_type": "markdown",
      "metadata": {
        "id": "hSc2fHWct5SF"
      },
      "source": [
        "## Objectives\n",
        "* describe a standard EDA workflow\n",
        "* EXTRA: describe a standard communication & reporting process\n",
        "* write a program which uses pandas to:\n",
        "    * obtain a subset of columns using list indexes\n",
        "    * obtain a subset of rows using locator syntax  \n",
        "    * obtain descriptive statistics \n",
        "    * applies a test to a column to discretize it\n",
        "    * factor a continuous column with a discrete column\n",
        "* write a program which uses seaborn and matplotlib to:\n",
        "    * show univariate plots (eg., distplot)\n",
        "    * show multivariate plots (eg., scatterplot)\n",
        "    * EXTRA: customize plots"
      ]
    },
    {
      "cell_type": "markdown",
      "metadata": {
        "id": "r7stLvhrt5SH"
      },
      "source": [
        "# Part 1: What is EDA?"
      ]
    },
    {
      "cell_type": "markdown",
      "metadata": {
        "id": "Mrf5sOEgt5SH"
      },
      "source": [
        "## What is Exploratory Data Analysis?"
      ]
    },
    {
      "cell_type": "markdown",
      "metadata": {
        "id": "ol9IPx9xt5SI"
      },
      "source": [
        "* goal:\n",
        "    * investigate\n",
        "    * explain\n",
        "    * describe\n",
        "    * understand"
      ]
    },
    {
      "cell_type": "markdown",
      "metadata": {
        "id": "A8TXPKLWt5SJ"
      },
      "source": [
        "* questions?\n",
        "    * is there enough data?\n",
        "    * is the data correct?\n",
        "    * what is the distribution of each column?\n",
        "    * how do the columns correlate?"
      ]
    },
    {
      "cell_type": "markdown",
      "metadata": {
        "id": "F3kF5B3it5SK"
      },
      "source": [
        "* method\n",
        "    * visual\n",
        "    * primarily descriptive"
      ]
    },
    {
      "cell_type": "markdown",
      "metadata": {
        "id": "EpBZmpk4t5SL"
      },
      "source": [
        "## What are the tools for EDA in Python?"
      ]
    },
    {
      "cell_type": "markdown",
      "metadata": {
        "id": "aspE7jzzt5SM"
      },
      "source": [
        "Simple pair: Pandas for data exploration, seaborn for visualization.\n",
        "\n",
        "\n",
        "...but lots of options. "
      ]
    },
    {
      "cell_type": "markdown",
      "metadata": {
        "id": "CJuu3BP1t5SN"
      },
      "source": [
        "## What are the challenges around EDA?"
      ]
    },
    {
      "cell_type": "markdown",
      "metadata": {
        "id": "NK0DNjUwt5SN"
      },
      "source": [
        "### Challenges of EDA:\n",
        "\n",
        "* Strategic \n",
        "* Organizational\n",
        "* Technical "
      ]
    },
    {
      "cell_type": "markdown",
      "metadata": {
        "id": "jVRy2c5yt5SO"
      },
      "source": [
        "# Part 2: EDA with Pandas"
      ]
    },
    {
      "cell_type": "code",
      "execution_count": 17,
      "metadata": {
        "id": "DOpSEKV9t5SO"
      },
      "outputs": [],
      "source": [
        "import pandas as pd\n",
        "\n",
        "df = pd.read_csv('https://raw.githubusercontent.com/a-forty-two/DFE6/main/titanic.csv')\n"
      ]
    },
    {
      "cell_type": "markdown",
      "metadata": {
        "id": "HBrXkFvbt5SP"
      },
      "source": [
        "## How do we EDA with Pandas?"
      ]
    },
    {
      "cell_type": "markdown",
      "metadata": {
        "id": "7f4jYdctt5SQ"
      },
      "source": [
        "* data quality, structure, etc. metrics; $\\rightarrow$ `.info()`\n",
        "* descriptive stats for all single columns; $\\rightarrow$ `.describe()`, `.mean()`, `.value_counts()`\n",
        "* descriptive stats for all pairs of columns; $\\rightarrow$ `.corr()`\n",
        "* domain-specific row subsets; $\\rightarrow$ `df.loc`\n",
        "* introduce factoring columns; $\\rightarrow$ `.groupby`\n",
        "* introduce domain-specific novel columns; $\\rightarrow$ `df['bmi'] = df['w'] / df['h'] ** 2`\n",
        "\n",
        "    "
      ]
    },
    {
      "cell_type": "markdown",
      "metadata": {
        "id": "IND4hkPEt5SQ"
      },
      "source": [
        "The purpose of computing a correlation score (default: pearson) is to determine *possible* relationships, rather than accurately measure correlation.\n",
        "\n",
        "Note the *sign* of the score, and it's rough magnitude. You should plot all columns and pairs *regardless*. "
      ]
    },
    {
      "cell_type": "markdown",
      "metadata": {
        "id": "NisH-Pcnt5SR"
      },
      "source": [
        "## Exercise (20 min)"
      ]
    },
    {
      "cell_type": "markdown",
      "metadata": {
        "id": "Ets3UUf5t5SR"
      },
      "source": [
        "Perform an EDA of the titanic dataset with pandas, include:\n",
        "\n",
        "* data quality, structure, etc. metrics\n",
        "    * `.info()`, `.isna().sum()`, etc.\n",
        "* descriptive stats for all single columns\n",
        "    * `.describe()`, `.mean()`, `.median()`, `.std()`, `.value_counts()`\n",
        "* descriptive stats for all pairs of columns\n",
        "    * ie., `.corr()`"
      ]
    },
    {
      "cell_type": "code",
      "source": [
        "df.info()"
      ],
      "metadata": {
        "id": "eqTjitX6vdCu"
      },
      "execution_count": null,
      "outputs": []
    },
    {
      "cell_type": "code",
      "source": [
        "df.isna().sum()"
      ],
      "metadata": {
        "id": "veRUcVmbvsO7"
      },
      "execution_count": null,
      "outputs": []
    },
    {
      "cell_type": "code",
      "source": [
        "df"
      ],
      "metadata": {
        "id": "4U-iUUluvykt"
      },
      "execution_count": null,
      "outputs": []
    },
    {
      "cell_type": "code",
      "source": [
        "df.describe()"
      ],
      "metadata": {
        "id": "3BGrwMCTw5Ia"
      },
      "execution_count": null,
      "outputs": []
    },
    {
      "cell_type": "code",
      "source": [
        "df.mean()"
      ],
      "metadata": {
        "id": "OTPXW9hw1t7k"
      },
      "execution_count": null,
      "outputs": []
    },
    {
      "cell_type": "code",
      "source": [
        "df.median()"
      ],
      "metadata": {
        "id": "xSWLTI2x2JSg"
      },
      "execution_count": null,
      "outputs": []
    },
    {
      "cell_type": "code",
      "source": [
        "df.std()"
      ],
      "metadata": {
        "id": "pA-D_28w2RLn",
        "outputId": "1575c452-c9eb-455a-8600-e4492883e869",
        "colab": {
          "base_uri": "https://localhost:8080/"
        }
      },
      "execution_count": 28,
      "outputs": [
        {
          "output_type": "stream",
          "name": "stderr",
          "text": [
            "/usr/local/lib/python3.7/dist-packages/ipykernel_launcher.py:1: FutureWarning: Dropping of nuisance columns in DataFrame reductions (with 'numeric_only=None') is deprecated; in a future version this will raise TypeError.  Select only valid columns before calling the reduction.\n",
            "  \"\"\"Entry point for launching an IPython kernel.\n"
          ]
        },
        {
          "output_type": "execute_result",
          "data": {
            "text/plain": [
              "survived       0.486592\n",
              "pclass         0.836071\n",
              "age           14.526497\n",
              "sibsp          1.102743\n",
              "parch          0.806057\n",
              "fare          49.693429\n",
              "adult_male     0.489615\n",
              "alone          0.489615\n",
              "dtype: float64"
            ]
          },
          "metadata": {},
          "execution_count": 28
        }
      ]
    },
    {
      "cell_type": "code",
      "source": [
        "df.value_counts()"
      ],
      "metadata": {
        "id": "qTQV1r222W2_",
        "outputId": "889916a5-0053-4b2c-e722-48ec7a88982d",
        "colab": {
          "base_uri": "https://localhost:8080/"
        }
      },
      "execution_count": 29,
      "outputs": [
        {
          "output_type": "execute_result",
          "data": {
            "text/plain": [
              "survived  pclass  sex     age   sibsp  parch  fare      embarked  class  who    adult_male  deck  embark_town  alive  alone\n",
              "1         1       female  24.0  0      0      69.3000   C         First  woman  False       B     Cherbourg    yes    True     2\n",
              "                          58.0  0      0      26.5500   S         First  woman  False       C     Southampton  yes    True     1\n",
              "                          49.0  0      0      25.9292   S         First  woman  False       D     Southampton  yes    True     1\n",
              "                                1      0      76.7292   C         First  woman  False       D     Cherbourg    yes    False    1\n",
              "                          50.0  0      1      247.5208  C         First  woman  False       B     Cherbourg    yes    False    1\n",
              "                                                                                                                              ..\n",
              "                          16.0  0      0      86.5000   S         First  woman  False       B     Southampton  yes    True     1\n",
              "                                       1      39.4000   S         First  woman  False       D     Southampton  yes    False    1\n",
              "                                              57.9792   C         First  woman  False       B     Cherbourg    yes    False    1\n",
              "                          17.0  1      0      57.0000   S         First  woman  False       B     Southampton  yes    False    1\n",
              "          3       male    32.0  0      0      8.0500    S         Third  man    True        E     Southampton  yes    True     1\n",
              "Length: 181, dtype: int64"
            ]
          },
          "metadata": {},
          "execution_count": 29
        }
      ]
    }
  ],
  "metadata": {
    "kernelspec": {
      "display_name": "Python 3",
      "language": "python",
      "name": "python3"
    },
    "language_info": {
      "codemirror_mode": {
        "name": "ipython",
        "version": 3
      },
      "file_extension": ".py",
      "mimetype": "text/x-python",
      "name": "python",
      "nbconvert_exporter": "python",
      "pygments_lexer": "ipython3",
      "version": "3.7.4"
    },
    "colab": {
      "name": "04_2 - EDA_Pandas.ipynb",
      "provenance": [],
      "include_colab_link": true
    }
  },
  "nbformat": 4,
  "nbformat_minor": 0
}