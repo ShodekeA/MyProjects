{
  "cells": [
    {
      "cell_type": "markdown",
      "metadata": {
        "id": "view-in-github",
        "colab_type": "text"
      },
      "source": [
        "<a href=\"https://colab.research.google.com/github/ShodekeA/MyProjects/blob/main/04_2_EDA_Pandas.ipynb\" target=\"_parent\"><img src=\"https://colab.research.google.com/assets/colab-badge.svg\" alt=\"Open In Colab\"/></a>"
      ]
    },
    {
      "cell_type": "markdown",
      "metadata": {
        "id": "DxPfOE2rt5SD"
      },
      "source": [
        "# Python for Data Science & Analysis \n",
        "## Notes 3.1, Exploratory Data Analysis & Visualization"
      ]
    },
    {
      "cell_type": "markdown",
      "metadata": {
        "id": "hSc2fHWct5SF"
      },
      "source": [
        "## Objectives\n",
        "* describe a standard EDA workflow\n",
        "* EXTRA: describe a standard communication & reporting process\n",
        "* write a program which uses pandas to:\n",
        "    * obtain a subset of columns using list indexes\n",
        "    * obtain a subset of rows using locator syntax  \n",
        "    * obtain descriptive statistics \n",
        "    * applies a test to a column to discretize it\n",
        "    * factor a continuous column with a discrete column\n",
        "* write a program which uses seaborn and matplotlib to:\n",
        "    * show univariate plots (eg., distplot)\n",
        "    * show multivariate plots (eg., scatterplot)\n",
        "    * EXTRA: customize plots"
      ]
    },
    {
      "cell_type": "markdown",
      "metadata": {
        "id": "r7stLvhrt5SH"
      },
      "source": [
        "# Part 1: What is EDA?"
      ]
    },
    {
      "cell_type": "markdown",
      "metadata": {
        "id": "Mrf5sOEgt5SH"
      },
      "source": [
        "## What is Exploratory Data Analysis?"
      ]
    },
    {
      "cell_type": "markdown",
      "metadata": {
        "id": "ol9IPx9xt5SI"
      },
      "source": [
        "* goal:\n",
        "    * investigate\n",
        "    * explain\n",
        "    * describe\n",
        "    * understand"
      ]
    },
    {
      "cell_type": "markdown",
      "metadata": {
        "id": "A8TXPKLWt5SJ"
      },
      "source": [
        "* questions?\n",
        "    * is there enough data?\n",
        "    * is the data correct?\n",
        "    * what is the distribution of each column?\n",
        "    * how do the columns correlate?"
      ]
    },
    {
      "cell_type": "markdown",
      "metadata": {
        "id": "F3kF5B3it5SK"
      },
      "source": [
        "* method\n",
        "    * visual\n",
        "    * primarily descriptive"
      ]
    },
    {
      "cell_type": "markdown",
      "metadata": {
        "id": "EpBZmpk4t5SL"
      },
      "source": [
        "## What are the tools for EDA in Python?"
      ]
    },
    {
      "cell_type": "markdown",
      "metadata": {
        "id": "aspE7jzzt5SM"
      },
      "source": [
        "Simple pair: Pandas for data exploration, seaborn for visualization.\n",
        "\n",
        "\n",
        "...but lots of options. "
      ]
    },
    {
      "cell_type": "markdown",
      "metadata": {
        "id": "CJuu3BP1t5SN"
      },
      "source": [
        "## What are the challenges around EDA?"
      ]
    },
    {
      "cell_type": "markdown",
      "metadata": {
        "id": "NK0DNjUwt5SN"
      },
      "source": [
        "### Challenges of EDA:\n",
        "\n",
        "* Strategic \n",
        "* Organizational\n",
        "* Technical "
      ]
    },
    {
      "cell_type": "markdown",
      "metadata": {
        "id": "jVRy2c5yt5SO"
      },
      "source": [
        "# Part 2: EDA with Pandas"
      ]
    },
    {
      "cell_type": "code",
      "execution_count": null,
      "metadata": {
        "id": "DOpSEKV9t5SO"
      },
      "outputs": [],
      "source": [
        "import pandas as pd\n",
        "\n",
        "df = pd.read_csv('https://raw.githubusercontent.com/a-forty-two/DFE6/main/titanic.csv')\n"
      ]
    },
    {
      "cell_type": "markdown",
      "metadata": {
        "id": "HBrXkFvbt5SP"
      },
      "source": [
        "## How do we EDA with Pandas?"
      ]
    },
    {
      "cell_type": "markdown",
      "metadata": {
        "id": "7f4jYdctt5SQ"
      },
      "source": [
        "* data quality, structure, etc. metrics; $\\rightarrow$ `.info()`\n",
        "* descriptive stats for all single columns; $\\rightarrow$ `.describe()`, `.mean()`, `.value_counts()`\n",
        "* descriptive stats for all pairs of columns; $\\rightarrow$ `.corr()`\n",
        "* domain-specific row subsets; $\\rightarrow$ `df.loc`\n",
        "* introduce factoring columns; $\\rightarrow$ `.groupby`\n",
        "* introduce domain-specific novel columns; $\\rightarrow$ `df['bmi'] = df['w'] / df['h'] ** 2`\n",
        "\n",
        "    "
      ]
    },
    {
      "cell_type": "markdown",
      "metadata": {
        "id": "IND4hkPEt5SQ"
      },
      "source": [
        "The purpose of computing a correlation score (default: pearson) is to determine *possible* relationships, rather than accurately measure correlation.\n",
        "\n",
        "Note the *sign* of the score, and it's rough magnitude. You should plot all columns and pairs *regardless*. "
      ]
    },
    {
      "cell_type": "markdown",
      "metadata": {
        "id": "NisH-Pcnt5SR"
      },
      "source": [
        "## Exercise (20 min)"
      ]
    },
    {
      "cell_type": "markdown",
      "metadata": {
        "id": "Ets3UUf5t5SR"
      },
      "source": [
        "Perform an EDA of the titanic dataset with pandas, include:\n",
        "\n",
        "* data quality, structure, etc. metrics\n",
        "    * `.info()`, `.isna().sum()`, etc.\n",
        "* descriptive stats for all single columns\n",
        "    * `.describe()`, `.mean()`, `.median()`, `.std()`, `.value_counts()`\n",
        "* descriptive stats for all pairs of columns\n",
        "    * ie., `.corr()`"
      ]
    },
    {
      "cell_type": "code",
      "source": [
        "df.info()"
      ],
      "metadata": {
        "id": "eqTjitX6vdCu"
      },
      "execution_count": null,
      "outputs": []
    },
    {
      "cell_type": "code",
      "source": [
        "df.isna().sum()"
      ],
      "metadata": {
        "id": "veRUcVmbvsO7"
      },
      "execution_count": null,
      "outputs": []
    },
    {
      "cell_type": "code",
      "source": [
        "df"
      ],
      "metadata": {
        "id": "4U-iUUluvykt"
      },
      "execution_count": null,
      "outputs": []
    },
    {
      "cell_type": "code",
      "source": [
        "df.describe()"
      ],
      "metadata": {
        "id": "3BGrwMCTw5Ia"
      },
      "execution_count": null,
      "outputs": []
    },
    {
      "cell_type": "code",
      "source": [
        "df.mean()"
      ],
      "metadata": {
        "id": "OTPXW9hw1t7k"
      },
      "execution_count": null,
      "outputs": []
    },
    {
      "cell_type": "code",
      "source": [
        "df.median()"
      ],
      "metadata": {
        "id": "xSWLTI2x2JSg"
      },
      "execution_count": null,
      "outputs": []
    },
    {
      "cell_type": "code",
      "source": [
        "df.std()"
      ],
      "metadata": {
        "id": "pA-D_28w2RLn",
        "outputId": "1575c452-c9eb-455a-8600-e4492883e869",
        "colab": {
          "base_uri": "https://localhost:8080/"
        }
      },
      "execution_count": null,
      "outputs": [
        {
          "output_type": "stream",
          "name": "stderr",
          "text": [
            "/usr/local/lib/python3.7/dist-packages/ipykernel_launcher.py:1: FutureWarning: Dropping of nuisance columns in DataFrame reductions (with 'numeric_only=None') is deprecated; in a future version this will raise TypeError.  Select only valid columns before calling the reduction.\n",
            "  \"\"\"Entry point for launching an IPython kernel.\n"
          ]
        },
        {
          "output_type": "execute_result",
          "data": {
            "text/plain": [
              "survived       0.486592\n",
              "pclass         0.836071\n",
              "age           14.526497\n",
              "sibsp          1.102743\n",
              "parch          0.806057\n",
              "fare          49.693429\n",
              "adult_male     0.489615\n",
              "alone          0.489615\n",
              "dtype: float64"
            ]
          },
          "metadata": {},
          "execution_count": 28
        }
      ]
    },
    {
      "cell_type": "code",
      "source": [
        "df.value_counts()"
      ],
      "metadata": {
        "id": "qTQV1r222W2_"
      },
      "execution_count": null,
      "outputs": []
    },
    {
      "cell_type": "code",
      "source": [
        "df.corr()"
      ],
      "metadata": {
        "id": "HJxTPzVy5ybO",
        "outputId": "66a0ce9f-0f0d-497d-d549-ce1cf4699fe0",
        "colab": {
          "base_uri": "https://localhost:8080/",
          "height": 300
        }
      },
      "execution_count": 32,
      "outputs": [
        {
          "output_type": "execute_result",
          "data": {
            "text/html": [
              "\n",
              "  <div id=\"df-1d6911c7-b62c-46ad-ac26-06baa8600602\">\n",
              "    <div class=\"colab-df-container\">\n",
              "      <div>\n",
              "<style scoped>\n",
              "    .dataframe tbody tr th:only-of-type {\n",
              "        vertical-align: middle;\n",
              "    }\n",
              "\n",
              "    .dataframe tbody tr th {\n",
              "        vertical-align: top;\n",
              "    }\n",
              "\n",
              "    .dataframe thead th {\n",
              "        text-align: right;\n",
              "    }\n",
              "</style>\n",
              "<table border=\"1\" class=\"dataframe\">\n",
              "  <thead>\n",
              "    <tr style=\"text-align: right;\">\n",
              "      <th></th>\n",
              "      <th>survived</th>\n",
              "      <th>pclass</th>\n",
              "      <th>age</th>\n",
              "      <th>sibsp</th>\n",
              "      <th>parch</th>\n",
              "      <th>fare</th>\n",
              "      <th>adult_male</th>\n",
              "      <th>alone</th>\n",
              "    </tr>\n",
              "  </thead>\n",
              "  <tbody>\n",
              "    <tr>\n",
              "      <th>survived</th>\n",
              "      <td>1.000000</td>\n",
              "      <td>-0.338481</td>\n",
              "      <td>-0.077221</td>\n",
              "      <td>-0.035322</td>\n",
              "      <td>0.081629</td>\n",
              "      <td>0.257307</td>\n",
              "      <td>-0.557080</td>\n",
              "      <td>-0.203367</td>\n",
              "    </tr>\n",
              "    <tr>\n",
              "      <th>pclass</th>\n",
              "      <td>-0.338481</td>\n",
              "      <td>1.000000</td>\n",
              "      <td>-0.369226</td>\n",
              "      <td>0.083081</td>\n",
              "      <td>0.018443</td>\n",
              "      <td>-0.549500</td>\n",
              "      <td>0.094035</td>\n",
              "      <td>0.135207</td>\n",
              "    </tr>\n",
              "    <tr>\n",
              "      <th>age</th>\n",
              "      <td>-0.077221</td>\n",
              "      <td>-0.369226</td>\n",
              "      <td>1.000000</td>\n",
              "      <td>-0.308247</td>\n",
              "      <td>-0.189119</td>\n",
              "      <td>0.096067</td>\n",
              "      <td>0.280328</td>\n",
              "      <td>0.198270</td>\n",
              "    </tr>\n",
              "    <tr>\n",
              "      <th>sibsp</th>\n",
              "      <td>-0.035322</td>\n",
              "      <td>0.083081</td>\n",
              "      <td>-0.308247</td>\n",
              "      <td>1.000000</td>\n",
              "      <td>0.414838</td>\n",
              "      <td>0.159651</td>\n",
              "      <td>-0.253586</td>\n",
              "      <td>-0.584471</td>\n",
              "    </tr>\n",
              "    <tr>\n",
              "      <th>parch</th>\n",
              "      <td>0.081629</td>\n",
              "      <td>0.018443</td>\n",
              "      <td>-0.189119</td>\n",
              "      <td>0.414838</td>\n",
              "      <td>1.000000</td>\n",
              "      <td>0.216225</td>\n",
              "      <td>-0.349943</td>\n",
              "      <td>-0.583398</td>\n",
              "    </tr>\n",
              "    <tr>\n",
              "      <th>fare</th>\n",
              "      <td>0.257307</td>\n",
              "      <td>-0.549500</td>\n",
              "      <td>0.096067</td>\n",
              "      <td>0.159651</td>\n",
              "      <td>0.216225</td>\n",
              "      <td>1.000000</td>\n",
              "      <td>-0.182024</td>\n",
              "      <td>-0.271832</td>\n",
              "    </tr>\n",
              "    <tr>\n",
              "      <th>adult_male</th>\n",
              "      <td>-0.557080</td>\n",
              "      <td>0.094035</td>\n",
              "      <td>0.280328</td>\n",
              "      <td>-0.253586</td>\n",
              "      <td>-0.349943</td>\n",
              "      <td>-0.182024</td>\n",
              "      <td>1.000000</td>\n",
              "      <td>0.404744</td>\n",
              "    </tr>\n",
              "    <tr>\n",
              "      <th>alone</th>\n",
              "      <td>-0.203367</td>\n",
              "      <td>0.135207</td>\n",
              "      <td>0.198270</td>\n",
              "      <td>-0.584471</td>\n",
              "      <td>-0.583398</td>\n",
              "      <td>-0.271832</td>\n",
              "      <td>0.404744</td>\n",
              "      <td>1.000000</td>\n",
              "    </tr>\n",
              "  </tbody>\n",
              "</table>\n",
              "</div>\n",
              "      <button class=\"colab-df-convert\" onclick=\"convertToInteractive('df-1d6911c7-b62c-46ad-ac26-06baa8600602')\"\n",
              "              title=\"Convert this dataframe to an interactive table.\"\n",
              "              style=\"display:none;\">\n",
              "        \n",
              "  <svg xmlns=\"http://www.w3.org/2000/svg\" height=\"24px\"viewBox=\"0 0 24 24\"\n",
              "       width=\"24px\">\n",
              "    <path d=\"M0 0h24v24H0V0z\" fill=\"none\"/>\n",
              "    <path d=\"M18.56 5.44l.94 2.06.94-2.06 2.06-.94-2.06-.94-.94-2.06-.94 2.06-2.06.94zm-11 1L8.5 8.5l.94-2.06 2.06-.94-2.06-.94L8.5 2.5l-.94 2.06-2.06.94zm10 10l.94 2.06.94-2.06 2.06-.94-2.06-.94-.94-2.06-.94 2.06-2.06.94z\"/><path d=\"M17.41 7.96l-1.37-1.37c-.4-.4-.92-.59-1.43-.59-.52 0-1.04.2-1.43.59L10.3 9.45l-7.72 7.72c-.78.78-.78 2.05 0 2.83L4 21.41c.39.39.9.59 1.41.59.51 0 1.02-.2 1.41-.59l7.78-7.78 2.81-2.81c.8-.78.8-2.07 0-2.86zM5.41 20L4 18.59l7.72-7.72 1.47 1.35L5.41 20z\"/>\n",
              "  </svg>\n",
              "      </button>\n",
              "      \n",
              "  <style>\n",
              "    .colab-df-container {\n",
              "      display:flex;\n",
              "      flex-wrap:wrap;\n",
              "      gap: 12px;\n",
              "    }\n",
              "\n",
              "    .colab-df-convert {\n",
              "      background-color: #E8F0FE;\n",
              "      border: none;\n",
              "      border-radius: 50%;\n",
              "      cursor: pointer;\n",
              "      display: none;\n",
              "      fill: #1967D2;\n",
              "      height: 32px;\n",
              "      padding: 0 0 0 0;\n",
              "      width: 32px;\n",
              "    }\n",
              "\n",
              "    .colab-df-convert:hover {\n",
              "      background-color: #E2EBFA;\n",
              "      box-shadow: 0px 1px 2px rgba(60, 64, 67, 0.3), 0px 1px 3px 1px rgba(60, 64, 67, 0.15);\n",
              "      fill: #174EA6;\n",
              "    }\n",
              "\n",
              "    [theme=dark] .colab-df-convert {\n",
              "      background-color: #3B4455;\n",
              "      fill: #D2E3FC;\n",
              "    }\n",
              "\n",
              "    [theme=dark] .colab-df-convert:hover {\n",
              "      background-color: #434B5C;\n",
              "      box-shadow: 0px 1px 3px 1px rgba(0, 0, 0, 0.15);\n",
              "      filter: drop-shadow(0px 1px 2px rgba(0, 0, 0, 0.3));\n",
              "      fill: #FFFFFF;\n",
              "    }\n",
              "  </style>\n",
              "\n",
              "      <script>\n",
              "        const buttonEl =\n",
              "          document.querySelector('#df-1d6911c7-b62c-46ad-ac26-06baa8600602 button.colab-df-convert');\n",
              "        buttonEl.style.display =\n",
              "          google.colab.kernel.accessAllowed ? 'block' : 'none';\n",
              "\n",
              "        async function convertToInteractive(key) {\n",
              "          const element = document.querySelector('#df-1d6911c7-b62c-46ad-ac26-06baa8600602');\n",
              "          const dataTable =\n",
              "            await google.colab.kernel.invokeFunction('convertToInteractive',\n",
              "                                                     [key], {});\n",
              "          if (!dataTable) return;\n",
              "\n",
              "          const docLinkHtml = 'Like what you see? Visit the ' +\n",
              "            '<a target=\"_blank\" href=https://colab.research.google.com/notebooks/data_table.ipynb>data table notebook</a>'\n",
              "            + ' to learn more about interactive tables.';\n",
              "          element.innerHTML = '';\n",
              "          dataTable['output_type'] = 'display_data';\n",
              "          await google.colab.output.renderOutput(dataTable, element);\n",
              "          const docLink = document.createElement('div');\n",
              "          docLink.innerHTML = docLinkHtml;\n",
              "          element.appendChild(docLink);\n",
              "        }\n",
              "      </script>\n",
              "    </div>\n",
              "  </div>\n",
              "  "
            ],
            "text/plain": [
              "            survived    pclass       age     sibsp     parch      fare  \\\n",
              "survived    1.000000 -0.338481 -0.077221 -0.035322  0.081629  0.257307   \n",
              "pclass     -0.338481  1.000000 -0.369226  0.083081  0.018443 -0.549500   \n",
              "age        -0.077221 -0.369226  1.000000 -0.308247 -0.189119  0.096067   \n",
              "sibsp      -0.035322  0.083081 -0.308247  1.000000  0.414838  0.159651   \n",
              "parch       0.081629  0.018443 -0.189119  0.414838  1.000000  0.216225   \n",
              "fare        0.257307 -0.549500  0.096067  0.159651  0.216225  1.000000   \n",
              "adult_male -0.557080  0.094035  0.280328 -0.253586 -0.349943 -0.182024   \n",
              "alone      -0.203367  0.135207  0.198270 -0.584471 -0.583398 -0.271832   \n",
              "\n",
              "            adult_male     alone  \n",
              "survived     -0.557080 -0.203367  \n",
              "pclass        0.094035  0.135207  \n",
              "age           0.280328  0.198270  \n",
              "sibsp        -0.253586 -0.584471  \n",
              "parch        -0.349943 -0.583398  \n",
              "fare         -0.182024 -0.271832  \n",
              "adult_male    1.000000  0.404744  \n",
              "alone         0.404744  1.000000  "
            ]
          },
          "metadata": {},
          "execution_count": 32
        }
      ]
    }
  ],
  "metadata": {
    "kernelspec": {
      "display_name": "Python 3",
      "language": "python",
      "name": "python3"
    },
    "language_info": {
      "codemirror_mode": {
        "name": "ipython",
        "version": 3
      },
      "file_extension": ".py",
      "mimetype": "text/x-python",
      "name": "python",
      "nbconvert_exporter": "python",
      "pygments_lexer": "ipython3",
      "version": "3.7.4"
    },
    "colab": {
      "name": "04_2 - EDA_Pandas.ipynb",
      "provenance": [],
      "include_colab_link": true
    }
  },
  "nbformat": 4,
  "nbformat_minor": 0
}