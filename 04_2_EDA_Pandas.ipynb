{
  "cells": [
    {
      "cell_type": "markdown",
      "metadata": {
        "id": "view-in-github",
        "colab_type": "text"
      },
      "source": [
        "<a href=\"https://colab.research.google.com/github/ShodekeA/MyProjects/blob/main/04_2_EDA_Pandas.ipynb\" target=\"_parent\"><img src=\"https://colab.research.google.com/assets/colab-badge.svg\" alt=\"Open In Colab\"/></a>"
      ]
    },
    {
      "cell_type": "markdown",
      "metadata": {
        "id": "DxPfOE2rt5SD"
      },
      "source": [
        "# Python for Data Science & Analysis \n",
        "## Notes 3.1, Exploratory Data Analysis & Visualization"
      ]
    },
    {
      "cell_type": "markdown",
      "metadata": {
        "id": "hSc2fHWct5SF"
      },
      "source": [
        "## Objectives\n",
        "* describe a standard EDA workflow\n",
        "* EXTRA: describe a standard communication & reporting process\n",
        "* write a program which uses pandas to:\n",
        "    * obtain a subset of columns using list indexes\n",
        "    * obtain a subset of rows using locator syntax  \n",
        "    * obtain descriptive statistics \n",
        "    * applies a test to a column to discretize it\n",
        "    * factor a continuous column with a discrete column\n",
        "* write a program which uses seaborn and matplotlib to:\n",
        "    * show univariate plots (eg., distplot)\n",
        "    * show multivariate plots (eg., scatterplot)\n",
        "    * EXTRA: customize plots"
      ]
    },
    {
      "cell_type": "markdown",
      "metadata": {
        "id": "r7stLvhrt5SH"
      },
      "source": [
        "# Part 1: What is EDA?"
      ]
    },
    {
      "cell_type": "markdown",
      "metadata": {
        "id": "Mrf5sOEgt5SH"
      },
      "source": [
        "## What is Exploratory Data Analysis?"
      ]
    },
    {
      "cell_type": "markdown",
      "metadata": {
        "id": "ol9IPx9xt5SI"
      },
      "source": [
        "* goal:\n",
        "    * investigate\n",
        "    * explain\n",
        "    * describe\n",
        "    * understand"
      ]
    },
    {
      "cell_type": "markdown",
      "metadata": {
        "id": "A8TXPKLWt5SJ"
      },
      "source": [
        "* questions?\n",
        "    * is there enough data?\n",
        "    * is the data correct?\n",
        "    * what is the distribution of each column?\n",
        "    * how do the columns correlate?"
      ]
    },
    {
      "cell_type": "markdown",
      "metadata": {
        "id": "F3kF5B3it5SK"
      },
      "source": [
        "* method\n",
        "    * visual\n",
        "    * primarily descriptive"
      ]
    },
    {
      "cell_type": "markdown",
      "metadata": {
        "id": "EpBZmpk4t5SL"
      },
      "source": [
        "## What are the tools for EDA in Python?"
      ]
    },
    {
      "cell_type": "markdown",
      "metadata": {
        "id": "aspE7jzzt5SM"
      },
      "source": [
        "Simple pair: Pandas for data exploration, seaborn for visualization.\n",
        "\n",
        "\n",
        "...but lots of options. "
      ]
    },
    {
      "cell_type": "markdown",
      "metadata": {
        "id": "CJuu3BP1t5SN"
      },
      "source": [
        "## What are the challenges around EDA?"
      ]
    },
    {
      "cell_type": "markdown",
      "metadata": {
        "id": "NK0DNjUwt5SN"
      },
      "source": [
        "### Challenges of EDA:\n",
        "\n",
        "* Strategic \n",
        "* Organizational\n",
        "* Technical "
      ]
    },
    {
      "cell_type": "markdown",
      "metadata": {
        "id": "jVRy2c5yt5SO"
      },
      "source": [
        "# Part 2: EDA with Pandas"
      ]
    },
    {
      "cell_type": "code",
      "execution_count": 4,
      "metadata": {
        "id": "DOpSEKV9t5SO"
      },
      "outputs": [],
      "source": [
        "import pandas as pd\n",
        "\n",
        "df =  pd.read_csv('https://raw.githubusercontent.com/datasciencedojo/datasets/master/titanic.csv')\n"
      ]
    },
    {
      "cell_type": "markdown",
      "metadata": {
        "id": "HBrXkFvbt5SP"
      },
      "source": [
        "## How do we EDA with Pandas?"
      ]
    },
    {
      "cell_type": "markdown",
      "metadata": {
        "id": "7f4jYdctt5SQ"
      },
      "source": [
        "* data quality, structure, etc. metrics; $\\rightarrow$ `.info()`\n",
        "* descriptive stats for all single columns; $\\rightarrow$ `.describe()`, `.mean()`, `.value_counts()`\n",
        "* descriptive stats for all pairs of columns; $\\rightarrow$ `.corr()`\n",
        "* domain-specific row subsets; $\\rightarrow$ `df.loc`\n",
        "* introduce factoring columns; $\\rightarrow$ `.groupby`\n",
        "* introduce domain-specific novel columns; $\\rightarrow$ `df['bmi'] = df['w'] / df['h'] ** 2`\n",
        "\n",
        "    "
      ]
    },
    {
      "cell_type": "markdown",
      "metadata": {
        "id": "IND4hkPEt5SQ"
      },
      "source": [
        "The purpose of computing a correlation score (default: pearson) is to determine *possible* relationships, rather than accurately measure correlation.\n",
        "\n",
        "Note the *sign* of the score, and it's rough magnitude. You should plot all columns and pairs *regardless*. "
      ]
    },
    {
      "cell_type": "markdown",
      "metadata": {
        "id": "NisH-Pcnt5SR"
      },
      "source": [
        "## Exercise (20 min)"
      ]
    },
    {
      "cell_type": "markdown",
      "metadata": {
        "id": "Ets3UUf5t5SR"
      },
      "source": [
        "Perform an EDA of the titanic dataset with pandas, include:\n",
        "\n",
        "* data quality, structure, etc. metrics\n",
        "    * `.info()`, `.isna().sum()`, etc.\n",
        "* descriptive stats for all single columns\n",
        "    * `.describe()`, `.mean()`, `.median()`, `.std()`, `.value_counts()`\n",
        "* descriptive stats for all pairs of columns\n",
        "    * ie., `.corr()`"
      ]
    },
    {
      "cell_type": "code",
      "source": [
        "df.info()"
      ],
      "metadata": {
        "colab": {
          "base_uri": "https://localhost:8080/"
        },
        "id": "eqTjitX6vdCu",
        "outputId": "3e67a918-8d3d-4a75-950d-8ed47f8d14b7"
      },
      "execution_count": 9,
      "outputs": [
        {
          "output_type": "stream",
          "name": "stdout",
          "text": [
            "<class 'pandas.core.frame.DataFrame'>\n",
            "RangeIndex: 891 entries, 0 to 890\n",
            "Data columns (total 12 columns):\n",
            " #   Column       Non-Null Count  Dtype  \n",
            "---  ------       --------------  -----  \n",
            " 0   PassengerId  891 non-null    int64  \n",
            " 1   Survived     891 non-null    int64  \n",
            " 2   Pclass       891 non-null    int64  \n",
            " 3   Name         891 non-null    object \n",
            " 4   Sex          891 non-null    object \n",
            " 5   Age          714 non-null    float64\n",
            " 6   SibSp        891 non-null    int64  \n",
            " 7   Parch        891 non-null    int64  \n",
            " 8   Ticket       891 non-null    object \n",
            " 9   Fare         891 non-null    float64\n",
            " 10  Cabin        204 non-null    object \n",
            " 11  Embarked     889 non-null    object \n",
            "dtypes: float64(2), int64(5), object(5)\n",
            "memory usage: 83.7+ KB\n"
          ]
        }
      ]
    },
    {
      "cell_type": "code",
      "source": [
        "df.isna()"
      ],
      "metadata": {
        "id": "veRUcVmbvsO7"
      },
      "execution_count": null,
      "outputs": []
    },
    {
      "cell_type": "code",
      "source": [
        "df.Age.mean"
      ],
      "metadata": {
        "colab": {
          "base_uri": "https://localhost:8080/"
        },
        "id": "4U-iUUluvykt",
        "outputId": "d4dc34df-c134-4915-e202-6225ed558a4a"
      },
      "execution_count": 11,
      "outputs": [
        {
          "output_type": "execute_result",
          "data": {
            "text/plain": [
              "<bound method NDFrame._add_numeric_operations.<locals>.mean of 0      22.0\n",
              "1      38.0\n",
              "2      26.0\n",
              "3      35.0\n",
              "4      35.0\n",
              "       ... \n",
              "886    27.0\n",
              "887    19.0\n",
              "888     NaN\n",
              "889    26.0\n",
              "890    32.0\n",
              "Name: Age, Length: 891, dtype: float64>"
            ]
          },
          "metadata": {},
          "execution_count": 11
        }
      ]
    }
  ],
  "metadata": {
    "kernelspec": {
      "display_name": "Python 3",
      "language": "python",
      "name": "python3"
    },
    "language_info": {
      "codemirror_mode": {
        "name": "ipython",
        "version": 3
      },
      "file_extension": ".py",
      "mimetype": "text/x-python",
      "name": "python",
      "nbconvert_exporter": "python",
      "pygments_lexer": "ipython3",
      "version": "3.7.4"
    },
    "colab": {
      "name": "04_2 - EDA_Pandas.ipynb",
      "provenance": [],
      "include_colab_link": true
    }
  },
  "nbformat": 4,
  "nbformat_minor": 0
}